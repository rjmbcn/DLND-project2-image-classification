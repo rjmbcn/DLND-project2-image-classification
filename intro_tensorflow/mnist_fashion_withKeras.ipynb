{
 "cells": [
  {
   "cell_type": "code",
   "execution_count": 1,
   "id": "9d377d64",
   "metadata": {},
   "outputs": [],
   "source": [
    "import numpy as np \n",
    "import copy \n",
    "# def check_N(X: int) ->bool:\n",
    "#   if X <= 100 and X>= 1:\n",
    "#     return True\n",
    "#   else:\n",
    "#     return False\n",
    "\n",
    "# def check_C(C: str) -> bool: \n",
    "#   checks = np.ones(len(C), dtype = bool)\n",
    "  \n",
    "#   for idx, entry in enumerate(C):\n",
    "#     if entry not in ['A', 'B']:\n",
    "#       checks[idx] = False\n",
    "  \n",
    "#   if checks.sum() == len(C):\n",
    "#     return True\n",
    "#   else:\n",
    "#     return False\n",
    "      \n",
    "# def getWrongAnswers(N: int, C: str) -> str:\n",
    "#   # Write your code here\n",
    "#   answer = ''\n",
    "  \n",
    "#   if check_N(N) and check_C(C):\n",
    "#     for idx,entry in enumerate(C):\n",
    "#       if entry == 'A':\n",
    "#         answer = answer +'B'\n",
    "#       else:\n",
    "#         answer = answer +'A'\n",
    "      \n",
    "    \n",
    "  \n",
    "#   return answer\n"
   ]
  },
  {
   "cell_type": "code",
   "execution_count": 2,
   "id": "34191751",
   "metadata": {},
   "outputs": [],
   "source": [
    "# getWrongAnswers(N=4, C = 'BABA')\n",
    "# D = '_' \n",
    "# for entry in C:\n",
    "#     D = D + entry\n",
    "    \n",
    "# print(D)  "
   ]
  },
  {
   "cell_type": "code",
   "execution_count": 3,
   "id": "b1f02ff8",
   "metadata": {},
   "outputs": [
    {
     "name": "stdout",
     "output_type": "stream",
     "text": [
      "Init Plugin\n",
      "Init Graph Optimizer\n",
      "Init Kernel\n"
     ]
    }
   ],
   "source": [
    "import tensorflow as tf\n",
    "import tensorflow.keras as keras \n",
    "import numpy as np\n",
    "import matplotlib.pyplot as plt \n"
   ]
  },
  {
   "cell_type": "markdown",
   "id": "e42b4f2b",
   "metadata": {},
   "source": [
    "# Download data"
   ]
  },
  {
   "cell_type": "code",
   "execution_count": 4,
   "id": "fabbf580",
   "metadata": {},
   "outputs": [],
   "source": [
    "(x_train, y_train), (x_test, y_test) = keras.datasets.fashion_mnist.load_data()\n",
    "\n",
    "class_names = ['T-shirt/top', 'Trouser', 'Pullover', 'Dress', 'Coat',\n",
    "               'Sandal', 'Shirt', 'Sneaker', 'Bag', 'Ankle boot']\n"
   ]
  },
  {
   "cell_type": "code",
   "execution_count": 5,
   "id": "9dcdd528",
   "metadata": {},
   "outputs": [
    {
     "data": {
      "text/plain": [
       "numpy.uint8"
      ]
     },
     "execution_count": 5,
     "metadata": {},
     "output_type": "execute_result"
    }
   ],
   "source": [
    "type(x_train[0,0,0])"
   ]
  },
  {
   "cell_type": "markdown",
   "id": "f2241491",
   "metadata": {},
   "source": [
    "## Preprocess data"
   ]
  },
  {
   "cell_type": "code",
   "execution_count": 6,
   "id": "92001e9c",
   "metadata": {},
   "outputs": [],
   "source": [
    "x_train, x_test = x_train.astype(np.float32)/255.0, x_test.astype(np.float32) \n"
   ]
  },
  {
   "cell_type": "markdown",
   "id": "4bd59d76",
   "metadata": {},
   "source": [
    "# Build Network"
   ]
  },
  {
   "cell_type": "code",
   "execution_count": 7,
   "id": "16a20d83",
   "metadata": {},
   "outputs": [
    {
     "name": "stdout",
     "output_type": "stream",
     "text": [
      "Metal device set to: Apple M1\n"
     ]
    },
    {
     "name": "stderr",
     "output_type": "stream",
     "text": [
      "2021-10-09 05:53:18.054506: I tensorflow/core/common_runtime/pluggable_device/pluggable_device_factory.cc:305] Could not identify NUMA node of platform GPU ID 0, defaulting to 0. Your kernel may not have been built with NUMA support.\n",
      "2021-10-09 05:53:18.055233: I tensorflow/core/common_runtime/pluggable_device/pluggable_device_factory.cc:271] Created TensorFlow device (/job:localhost/replica:0/task:0/device:GPU:0 with 0 MB memory) -> physical PluggableDevice (device: 0, name: METAL, pci bus id: <undefined>)\n"
     ]
    }
   ],
   "source": [
    "n_labels = 10\n",
    "\n",
    "#define architecture\n",
    "model = keras.Sequential([\n",
    "                            keras.layers.Flatten(input_shape = x_train[0,].shape ),\n",
    "                            keras.layers.Dense(30, activation ='relu'),\n",
    "                            keras.layers.Dropout(0.3),\n",
    "                            keras.layers.Dense(n_labels)\n",
    "                        ])\n",
    "#define loss function \n",
    "loss_fn = keras.losses.SparseCategoricalCrossentropy(from_logits=True)\n",
    "\n",
    "#compile model\n",
    "\n",
    "model.compile(optimizer ='sgd',\n",
    "              loss = loss_fn,\n",
    "             metrics = ['accuracy'])\n"
   ]
  },
  {
   "cell_type": "markdown",
   "id": "472e1b93",
   "metadata": {},
   "source": [
    "# Fit the model"
   ]
  },
  {
   "cell_type": "code",
   "execution_count": 8,
   "id": "305fd417",
   "metadata": {},
   "outputs": [
    {
     "name": "stdout",
     "output_type": "stream",
     "text": [
      "Epoch 1/3\n",
      "\r",
      "   1/1875 [..............................] - ETA: 4:32 - loss: 2.5597 - accuracy: 0.1562"
     ]
    },
    {
     "name": "stderr",
     "output_type": "stream",
     "text": [
      "2021-10-09 05:53:21.430468: I tensorflow/compiler/mlir/mlir_graph_optimization_pass.cc:176] None of the MLIR Optimization Passes are enabled (registered 2)\n",
      "2021-10-09 05:53:21.433452: W tensorflow/core/platform/profile_utils/cpu_utils.cc:128] Failed to get CPU frequency: 0 Hz\n",
      "2021-10-09 05:53:21.533471: I tensorflow/core/grappler/optimizers/custom_graph_optimizer_registry.cc:112] Plugin optimizer for device_type GPU is enabled.\n"
     ]
    },
    {
     "name": "stdout",
     "output_type": "stream",
     "text": [
      "1875/1875 [==============================] - 7s 4ms/step - loss: 1.0013 - accuracy: 0.6602\n",
      "Epoch 2/3\n",
      "1875/1875 [==============================] - 6s 3ms/step - loss: 0.6964 - accuracy: 0.7667\n",
      "Epoch 3/3\n",
      "1875/1875 [==============================] - 7s 4ms/step - loss: 0.6273 - accuracy: 0.7878\n"
     ]
    },
    {
     "data": {
      "text/plain": [
       "<tensorflow.python.keras.callbacks.History at 0x2a63e0e80>"
      ]
     },
     "execution_count": 8,
     "metadata": {},
     "output_type": "execute_result"
    }
   ],
   "source": [
    "model.fit(x_train,y_train, epochs = 3)"
   ]
  },
  {
   "cell_type": "code",
   "execution_count": null,
   "id": "e0b94543",
   "metadata": {},
   "outputs": [],
   "source": []
  }
 ],
 "metadata": {
  "kernelspec": {
   "display_name": "Python 3.9 (tensorflow)",
   "language": "python",
   "name": "neural_nets"
  },
  "language_info": {
   "codemirror_mode": {
    "name": "ipython",
    "version": 3
   },
   "file_extension": ".py",
   "mimetype": "text/x-python",
   "name": "python",
   "nbconvert_exporter": "python",
   "pygments_lexer": "ipython3",
   "version": "3.9.7"
  }
 },
 "nbformat": 4,
 "nbformat_minor": 5
}
