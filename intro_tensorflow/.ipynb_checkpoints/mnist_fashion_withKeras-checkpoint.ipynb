{
 "cells": [
  {
   "cell_type": "code",
   "execution_count": 31,
   "id": "872e7cbe",
   "metadata": {},
   "outputs": [],
   "source": [
    "import numpy as np \n",
    "import copy \n",
    "def check_N(X: int) ->bool:\n",
    "  if X <= 100 and X>= 1:\n",
    "    return True\n",
    "  else:\n",
    "    return False\n",
    "\n",
    "def check_C(C: str) -> bool: \n",
    "  checks = np.ones(len(C), dtype = bool)\n",
    "  \n",
    "  for idx, entry in enumerate(C):\n",
    "    if entry not in ['A', 'B']:\n",
    "      checks[idx] = False\n",
    "  \n",
    "  if checks.sum() == len(C):\n",
    "    return True\n",
    "  else:\n",
    "    return False\n",
    "      \n",
    "def getWrongAnswers(N: int, C: str) -> str:\n",
    "  # Write your code here\n",
    "  answer:str\n",
    "  \n",
    "  if check_N(N) and check_C(C):\n",
    "    for idx,entry in enumerate(C):\n",
    "      if entry == 'A':\n",
    "        answer = answer +'B'\n",
    "      else:\n",
    "        answer = answer +'B'\n",
    "      \n",
    "    \n",
    "  \n",
    "  return answer\n"
   ]
  },
  {
   "cell_type": "code",
   "execution_count": 32,
   "id": "bf8d2de7",
   "metadata": {},
   "outputs": [
    {
     "ename": "TypeError",
     "evalue": "unsupported operand type(s) for +: 'NoneType' and 'str'",
     "output_type": "error",
     "traceback": [
      "\u001b[0;31m---------------------------------------------------------------------------\u001b[0m",
      "\u001b[0;31mTypeError\u001b[0m                                 Traceback (most recent call last)",
      "\u001b[0;32m/var/folders/nd/jd2m42cs4kn7mg90qqy3w3th0000gn/T/ipykernel_9777/3760939666.py\u001b[0m in \u001b[0;36m<module>\u001b[0;34m\u001b[0m\n\u001b[0;32m----> 1\u001b[0;31m \u001b[0mgetWrongAnswers\u001b[0m\u001b[0;34m(\u001b[0m\u001b[0mN\u001b[0m\u001b[0;34m=\u001b[0m\u001b[0;36m4\u001b[0m\u001b[0;34m,\u001b[0m \u001b[0mC\u001b[0m \u001b[0;34m=\u001b[0m \u001b[0;34m'BABA'\u001b[0m\u001b[0;34m)\u001b[0m\u001b[0;34m\u001b[0m\u001b[0;34m\u001b[0m\u001b[0m\n\u001b[0m",
      "\u001b[0;32m/var/folders/nd/jd2m42cs4kn7mg90qqy3w3th0000gn/T/ipykernel_9777/1696994544.py\u001b[0m in \u001b[0;36mgetWrongAnswers\u001b[0;34m(N, C)\u001b[0m\n\u001b[1;32m     28\u001b[0m         \u001b[0manswer\u001b[0m \u001b[0;34m=\u001b[0m \u001b[0manswer\u001b[0m \u001b[0;34m+\u001b[0m\u001b[0;34m'B'\u001b[0m\u001b[0;34m\u001b[0m\u001b[0;34m\u001b[0m\u001b[0m\n\u001b[1;32m     29\u001b[0m       \u001b[0;32melse\u001b[0m\u001b[0;34m:\u001b[0m\u001b[0;34m\u001b[0m\u001b[0;34m\u001b[0m\u001b[0m\n\u001b[0;32m---> 30\u001b[0;31m         \u001b[0manswer\u001b[0m \u001b[0;34m=\u001b[0m \u001b[0manswer\u001b[0m \u001b[0;34m+\u001b[0m\u001b[0;34m'B'\u001b[0m\u001b[0;34m\u001b[0m\u001b[0;34m\u001b[0m\u001b[0m\n\u001b[0m\u001b[1;32m     31\u001b[0m \u001b[0;34m\u001b[0m\u001b[0m\n\u001b[1;32m     32\u001b[0m \u001b[0;34m\u001b[0m\u001b[0m\n",
      "\u001b[0;31mTypeError\u001b[0m: unsupported operand type(s) for +: 'NoneType' and 'str'"
     ]
    }
   ],
   "source": [
    "getWrongAnswers(N=4, C = 'BABA')"
   ]
  },
  {
   "cell_type": "code",
   "execution_count": 27,
   "id": "6b5c865e",
   "metadata": {},
   "outputs": [
    {
     "name": "stdout",
     "output_type": "stream",
     "text": [
      "_ABAB\n"
     ]
    }
   ],
   "source": [
    "D = '_' \n",
    "for entry in C:\n",
    "    D = D + entry\n",
    "    \n",
    "print(D)    "
   ]
  },
  {
   "cell_type": "code",
   "execution_count": 1,
   "id": "8bc9c3d5",
   "metadata": {},
   "outputs": [
    {
     "name": "stdout",
     "output_type": "stream",
     "text": [
      "Init Plugin\n",
      "Init Graph Optimizer\n",
      "Init Kernel\n"
     ]
    }
   ],
   "source": [
    "import tensorflow as tf\n",
    "import tensorflow.keras as keras \n",
    "import numpy as np\n",
    "import matplotlib.pyplot as plt \n"
   ]
  },
  {
   "cell_type": "markdown",
   "id": "f71a5346",
   "metadata": {},
   "source": [
    "# Download data"
   ]
  },
  {
   "cell_type": "code",
   "execution_count": 9,
   "id": "f02816a3",
   "metadata": {},
   "outputs": [],
   "source": [
    "(x_train, y_train), (x_test, y_test) = keras.datasets.fashion_mnist.load_data()\n",
    "\n",
    "class_names = ['T-shirt/top', 'Trouser', 'Pullover', 'Dress', 'Coat',\n",
    "               'Sandal', 'Shirt', 'Sneaker', 'Bag', 'Ankle boot']\n"
   ]
  },
  {
   "cell_type": "code",
   "execution_count": 10,
   "id": "3bf35c09",
   "metadata": {},
   "outputs": [
    {
     "data": {
      "text/plain": [
       "numpy.uint8"
      ]
     },
     "execution_count": 10,
     "metadata": {},
     "output_type": "execute_result"
    }
   ],
   "source": [
    "type(x_train[0,0,0])"
   ]
  },
  {
   "cell_type": "markdown",
   "id": "cbe4e279",
   "metadata": {},
   "source": [
    "## Preprocess data"
   ]
  },
  {
   "cell_type": "code",
   "execution_count": 11,
   "id": "ef183e04",
   "metadata": {},
   "outputs": [],
   "source": [
    "x_train, x_test = x_train.astype(np.float32)/255.0, x_test.astype(np.float32) \n"
   ]
  },
  {
   "cell_type": "markdown",
   "id": "20176c5e",
   "metadata": {},
   "source": [
    "# Build Network"
   ]
  },
  {
   "cell_type": "code",
   "execution_count": 17,
   "id": "ee3a6357",
   "metadata": {},
   "outputs": [],
   "source": [
    "n_labels = 10\n",
    "\n",
    "#define architecture\n",
    "model = keras.Sequential([\n",
    "                            keras.layers.Flatten(input_shape = x_train[0,].shape ),\n",
    "                            keras.layers.Dense(30, activation ='relu'),\n",
    "                            keras.layers.Dropout(0.3),\n",
    "                            keras.layers.Dense(n_labels)\n",
    "                        ])\n",
    "#define loss function \n",
    "loss_fn = keras.losses.SparseCategoricalCrossentropy(from_logits=True)\n",
    "\n",
    "#compile model\n",
    "\n",
    "model.compile(optimizer ='sgd',\n",
    "              loss = loss_fn,\n",
    "             metrics = ['accuracy'])\n"
   ]
  },
  {
   "cell_type": "markdown",
   "id": "7b97833e",
   "metadata": {},
   "source": [
    "# Fit the model"
   ]
  },
  {
   "cell_type": "code",
   "execution_count": 18,
   "id": "388bb03d",
   "metadata": {},
   "outputs": [
    {
     "name": "stdout",
     "output_type": "stream",
     "text": [
      "Epoch 1/3\n"
     ]
    },
    {
     "name": "stderr",
     "output_type": "stream",
     "text": [
      "2021-10-03 20:30:28.743455: I tensorflow/core/grappler/optimizers/custom_graph_optimizer_registry.cc:112] Plugin optimizer for device_type GPU is enabled.\n"
     ]
    },
    {
     "name": "stdout",
     "output_type": "stream",
     "text": [
      "1875/1875 [==============================] - 8s 3ms/step - loss: 0.9835 - accuracy: 0.6661\n",
      "Epoch 2/3\n",
      "1875/1875 [==============================] - 6s 3ms/step - loss: 0.6864 - accuracy: 0.7647\n",
      "Epoch 3/3\n",
      "1875/1875 [==============================] - 6s 3ms/step - loss: 0.6164 - accuracy: 0.7871\n"
     ]
    },
    {
     "data": {
      "text/plain": [
       "<tensorflow.python.keras.callbacks.History at 0x1776ea8b0>"
      ]
     },
     "execution_count": 18,
     "metadata": {},
     "output_type": "execute_result"
    }
   ],
   "source": [
    "model.fit(x_train,y_train, epochs = 3)"
   ]
  },
  {
   "cell_type": "code",
   "execution_count": null,
   "id": "9eebc434",
   "metadata": {},
   "outputs": [],
   "source": []
  }
 ],
 "metadata": {
  "kernelspec": {
   "display_name": "Python 3.9 (tensorflow)",
   "language": "python",
   "name": "neural_nets"
  },
  "language_info": {
   "codemirror_mode": {
    "name": "ipython",
    "version": 3
   },
   "file_extension": ".py",
   "mimetype": "text/x-python",
   "name": "python",
   "nbconvert_exporter": "python",
   "pygments_lexer": "ipython3",
   "version": "3.9.7"
  }
 },
 "nbformat": 4,
 "nbformat_minor": 5
}
